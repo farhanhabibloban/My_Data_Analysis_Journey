{
 "cells": [
  {
   "cell_type": "code",
   "execution_count": 1,
   "id": "4848697e-96b9-4db1-88ca-0b512d469bed",
   "metadata": {},
   "outputs": [],
   "source": [
    "import pandas as pd\n",
    "import seaborn as sns"
   ]
  },
  {
   "cell_type": "markdown",
   "id": "91e56d00-70e2-401b-b34e-ec7995843703",
   "metadata": {},
   "source": [
    "Data Importing ,Formating and Cleaning"
   ]
  },
  {
   "cell_type": "code",
   "execution_count": 85,
   "id": "b214c3dc-dbe4-4994-9cd3-316403c80061",
   "metadata": {},
   "outputs": [
    {
     "name": "stderr",
     "output_type": "stream",
     "text": [
      "/tmp/ipykernel_4507/2586541472.py:2: UserWarning: The argument 'infer_datetime_format' is deprecated and will be removed in a future version. A strict version of it is now the default, see https://pandas.pydata.org/pdeps/0004-consistent-to-datetime-parsing.html. You can safely remove this argument.\n",
      "  data.index = pd.to_datetime(data.index,infer_datetime_format=True,format=\"%d/%m/%Y\")\n"
     ]
    },
    {
     "data": {
      "text/html": [
       "<div>\n",
       "<style scoped>\n",
       "    .dataframe tbody tr th:only-of-type {\n",
       "        vertical-align: middle;\n",
       "    }\n",
       "\n",
       "    .dataframe tbody tr th {\n",
       "        vertical-align: top;\n",
       "    }\n",
       "\n",
       "    .dataframe thead th {\n",
       "        text-align: right;\n",
       "    }\n",
       "</style>\n",
       "<table border=\"1\" class=\"dataframe\">\n",
       "  <thead>\n",
       "    <tr style=\"text-align: right;\">\n",
       "      <th></th>\n",
       "      <th>Direction</th>\n",
       "      <th>Weekday</th>\n",
       "      <th>Country</th>\n",
       "      <th>Commodity</th>\n",
       "      <th>Transport_Mode</th>\n",
       "      <th>Measure</th>\n",
       "      <th>Value</th>\n",
       "      <th>Cumulative</th>\n",
       "    </tr>\n",
       "    <tr>\n",
       "      <th>Date</th>\n",
       "      <th></th>\n",
       "      <th></th>\n",
       "      <th></th>\n",
       "      <th></th>\n",
       "      <th></th>\n",
       "      <th></th>\n",
       "      <th></th>\n",
       "      <th></th>\n",
       "    </tr>\n",
       "  </thead>\n",
       "  <tbody>\n",
       "    <tr>\n",
       "      <th>2015-01-01</th>\n",
       "      <td>Exports</td>\n",
       "      <td>Thursday</td>\n",
       "      <td>All</td>\n",
       "      <td>All</td>\n",
       "      <td>All</td>\n",
       "      <td>$</td>\n",
       "      <td>104000000</td>\n",
       "      <td>104000000</td>\n",
       "    </tr>\n",
       "    <tr>\n",
       "      <th>2015-01-02</th>\n",
       "      <td>Exports</td>\n",
       "      <td>Friday</td>\n",
       "      <td>All</td>\n",
       "      <td>All</td>\n",
       "      <td>All</td>\n",
       "      <td>$</td>\n",
       "      <td>96000000</td>\n",
       "      <td>200000000</td>\n",
       "    </tr>\n",
       "    <tr>\n",
       "      <th>2015-01-03</th>\n",
       "      <td>Exports</td>\n",
       "      <td>Saturday</td>\n",
       "      <td>All</td>\n",
       "      <td>All</td>\n",
       "      <td>All</td>\n",
       "      <td>$</td>\n",
       "      <td>61000000</td>\n",
       "      <td>262000000</td>\n",
       "    </tr>\n",
       "    <tr>\n",
       "      <th>2015-01-04</th>\n",
       "      <td>Exports</td>\n",
       "      <td>Sunday</td>\n",
       "      <td>All</td>\n",
       "      <td>All</td>\n",
       "      <td>All</td>\n",
       "      <td>$</td>\n",
       "      <td>74000000</td>\n",
       "      <td>336000000</td>\n",
       "    </tr>\n",
       "    <tr>\n",
       "      <th>2015-01-05</th>\n",
       "      <td>Exports</td>\n",
       "      <td>Monday</td>\n",
       "      <td>All</td>\n",
       "      <td>All</td>\n",
       "      <td>All</td>\n",
       "      <td>$</td>\n",
       "      <td>105000000</td>\n",
       "      <td>442000000</td>\n",
       "    </tr>\n",
       "    <tr>\n",
       "      <th>2015-01-06</th>\n",
       "      <td>Exports</td>\n",
       "      <td>Tuesday</td>\n",
       "      <td>All</td>\n",
       "      <td>All</td>\n",
       "      <td>All</td>\n",
       "      <td>$</td>\n",
       "      <td>76000000</td>\n",
       "      <td>518000000</td>\n",
       "    </tr>\n",
       "    <tr>\n",
       "      <th>2015-01-07</th>\n",
       "      <td>Exports</td>\n",
       "      <td>Wednesday</td>\n",
       "      <td>All</td>\n",
       "      <td>All</td>\n",
       "      <td>All</td>\n",
       "      <td>$</td>\n",
       "      <td>59000000</td>\n",
       "      <td>577000000</td>\n",
       "    </tr>\n",
       "    <tr>\n",
       "      <th>2015-01-08</th>\n",
       "      <td>Exports</td>\n",
       "      <td>Thursday</td>\n",
       "      <td>All</td>\n",
       "      <td>All</td>\n",
       "      <td>All</td>\n",
       "      <td>$</td>\n",
       "      <td>111000000</td>\n",
       "      <td>688000000</td>\n",
       "    </tr>\n",
       "    <tr>\n",
       "      <th>2015-01-09</th>\n",
       "      <td>Exports</td>\n",
       "      <td>Friday</td>\n",
       "      <td>All</td>\n",
       "      <td>All</td>\n",
       "      <td>All</td>\n",
       "      <td>$</td>\n",
       "      <td>98000000</td>\n",
       "      <td>786000000</td>\n",
       "    </tr>\n",
       "    <tr>\n",
       "      <th>2015-01-10</th>\n",
       "      <td>Exports</td>\n",
       "      <td>Saturday</td>\n",
       "      <td>All</td>\n",
       "      <td>All</td>\n",
       "      <td>All</td>\n",
       "      <td>$</td>\n",
       "      <td>89000000</td>\n",
       "      <td>875000000</td>\n",
       "    </tr>\n",
       "  </tbody>\n",
       "</table>\n",
       "</div>"
      ],
      "text/plain": [
       "           Direction    Weekday Country Commodity Transport_Mode Measure  \\\n",
       "Date                                                                       \n",
       "2015-01-01   Exports   Thursday     All       All            All       $   \n",
       "2015-01-02   Exports     Friday     All       All            All       $   \n",
       "2015-01-03   Exports   Saturday     All       All            All       $   \n",
       "2015-01-04   Exports     Sunday     All       All            All       $   \n",
       "2015-01-05   Exports     Monday     All       All            All       $   \n",
       "2015-01-06   Exports    Tuesday     All       All            All       $   \n",
       "2015-01-07   Exports  Wednesday     All       All            All       $   \n",
       "2015-01-08   Exports   Thursday     All       All            All       $   \n",
       "2015-01-09   Exports     Friday     All       All            All       $   \n",
       "2015-01-10   Exports   Saturday     All       All            All       $   \n",
       "\n",
       "                Value  Cumulative  \n",
       "Date                               \n",
       "2015-01-01  104000000   104000000  \n",
       "2015-01-02   96000000   200000000  \n",
       "2015-01-03   61000000   262000000  \n",
       "2015-01-04   74000000   336000000  \n",
       "2015-01-05  105000000   442000000  \n",
       "2015-01-06   76000000   518000000  \n",
       "2015-01-07   59000000   577000000  \n",
       "2015-01-08  111000000   688000000  \n",
       "2015-01-09   98000000   786000000  \n",
       "2015-01-10   89000000   875000000  "
      ]
     },
     "execution_count": 85,
     "metadata": {},
     "output_type": "execute_result"
    }
   ],
   "source": [
    "data = pd.read_csv(\"effects-of-covid-19-on-trade-at-15-december-2021-provisional.csv\", index_col=\"Date\")\n",
    "data.index = pd.to_datetime(data.index,infer_datetime_format=True,format=\"%d/%m/%Y\")\n",
    "data.drop([\"Year\"],axis=1,inplace=True)\n",
    "data.head(10)"
   ]
  },
  {
   "cell_type": "markdown",
   "id": "f130c38c-18e1-4f4e-adc4-fcd04c611a0b",
   "metadata": {},
   "source": [
    "Covid Season Based on (2020-2021)"
   ]
  },
  {
   "cell_type": "code",
   "execution_count": 86,
   "id": "2837387a-dcff-40b1-a32c-019b70b78078",
   "metadata": {},
   "outputs": [],
   "source": [
    "Covid_Seasons = data[\"2020-1-1\":\"2021-12-15\"]"
   ]
  },
  {
   "cell_type": "markdown",
   "id": "fd7d247b-defb-47e9-b301-f1793c81c9f3",
   "metadata": {},
   "source": [
    "Selecting Country based on Data"
   ]
  },
  {
   "cell_type": "code",
   "execution_count": 4,
   "id": "b987bdbd-53bd-4a74-9cb1-42685e5b0207",
   "metadata": {},
   "outputs": [],
   "source": [
    "China = Covid_Seasons.loc[Covid_Seasons[\"Country\"]=='China']\n",
    "United_State = Covid_Seasons.loc[Covid_Seasons[\"Country\"]=='United States']\n",
    "Europe = Covid_Seasons.loc[Covid_Seasons[\"Country\"]=='European Union (27)']"
   ]
  },
  {
   "cell_type": "markdown",
   "id": "881b5d71-f428-4110-b0fc-3141864ea6b8",
   "metadata": {},
   "source": [
    "Counting Trading Ammount($)"
   ]
  },
  {
   "cell_type": "code",
   "execution_count": 12,
   "id": "407ccbed-a6f9-4ea5-a88e-9d0301b0af7c",
   "metadata": {},
   "outputs": [],
   "source": [
    "Chinas_Values = China.groupby('Direction')[[\"Value\"]].sum().iloc[:-1]\n",
    "United_State_Values = United_State.groupby('Direction')[[\"Value\"]].sum()\n",
    "Europe_Values = Europe.groupby('Direction')[[\"Value\"]].sum()"
   ]
  },
  {
   "cell_type": "markdown",
   "id": "2c34ddd6-d59c-4360-9595-335864d0ab57",
   "metadata": {},
   "source": [
    "Visulaize Neumoric Data based on Country"
   ]
  },
  {
   "cell_type": "code",
   "execution_count": 78,
   "id": "d9ad4d7a-d064-4261-b186-457f7f795dc6",
   "metadata": {},
   "outputs": [
    {
     "data": {
      "text/html": [
       "<div>\n",
       "<style scoped>\n",
       "    .dataframe tbody tr th:only-of-type {\n",
       "        vertical-align: middle;\n",
       "    }\n",
       "\n",
       "    .dataframe tbody tr th {\n",
       "        vertical-align: top;\n",
       "    }\n",
       "\n",
       "    .dataframe thead th {\n",
       "        text-align: right;\n",
       "    }\n",
       "</style>\n",
       "<table border=\"1\" class=\"dataframe\">\n",
       "  <thead>\n",
       "    <tr style=\"text-align: right;\">\n",
       "      <th></th>\n",
       "      <th>Value</th>\n",
       "    </tr>\n",
       "    <tr>\n",
       "      <th>Direction</th>\n",
       "      <th></th>\n",
       "    </tr>\n",
       "  </thead>\n",
       "  <tbody>\n",
       "    <tr>\n",
       "      <th>Exports</th>\n",
       "      <td>62280625000</td>\n",
       "    </tr>\n",
       "  </tbody>\n",
       "</table>\n",
       "</div>"
      ],
      "text/plain": [
       "                 Value\n",
       "Direction             \n",
       "Exports    62280625000"
      ]
     },
     "execution_count": 78,
     "metadata": {},
     "output_type": "execute_result"
    }
   ],
   "source": [
    "Chinas_Values"
   ]
  },
  {
   "cell_type": "code",
   "execution_count": 79,
   "id": "50901304-b791-48f1-a41d-1a3afd9b28b8",
   "metadata": {},
   "outputs": [
    {
     "data": {
      "text/html": [
       "<div>\n",
       "<style scoped>\n",
       "    .dataframe tbody tr th:only-of-type {\n",
       "        vertical-align: middle;\n",
       "    }\n",
       "\n",
       "    .dataframe tbody tr th {\n",
       "        vertical-align: top;\n",
       "    }\n",
       "\n",
       "    .dataframe thead th {\n",
       "        text-align: right;\n",
       "    }\n",
       "</style>\n",
       "<table border=\"1\" class=\"dataframe\">\n",
       "  <thead>\n",
       "    <tr style=\"text-align: right;\">\n",
       "      <th></th>\n",
       "      <th>Value</th>\n",
       "    </tr>\n",
       "    <tr>\n",
       "      <th>Direction</th>\n",
       "      <th></th>\n",
       "    </tr>\n",
       "  </thead>\n",
       "  <tbody>\n",
       "    <tr>\n",
       "      <th>Exports</th>\n",
       "      <td>7854000000</td>\n",
       "    </tr>\n",
       "  </tbody>\n",
       "</table>\n",
       "</div>"
      ],
      "text/plain": [
       "                Value\n",
       "Direction            \n",
       "Exports    7854000000"
      ]
     },
     "execution_count": 79,
     "metadata": {},
     "output_type": "execute_result"
    }
   ],
   "source": [
    "Europe_Values"
   ]
  },
  {
   "cell_type": "code",
   "execution_count": 80,
   "id": "34bda4f7-3ae2-44ba-98ad-856d205935fe",
   "metadata": {},
   "outputs": [
    {
     "data": {
      "text/html": [
       "<div>\n",
       "<style scoped>\n",
       "    .dataframe tbody tr th:only-of-type {\n",
       "        vertical-align: middle;\n",
       "    }\n",
       "\n",
       "    .dataframe tbody tr th {\n",
       "        vertical-align: top;\n",
       "    }\n",
       "\n",
       "    .dataframe thead th {\n",
       "        text-align: right;\n",
       "    }\n",
       "</style>\n",
       "<table border=\"1\" class=\"dataframe\">\n",
       "  <thead>\n",
       "    <tr style=\"text-align: right;\">\n",
       "      <th></th>\n",
       "      <th>Value</th>\n",
       "    </tr>\n",
       "    <tr>\n",
       "      <th>Direction</th>\n",
       "      <th></th>\n",
       "    </tr>\n",
       "  </thead>\n",
       "  <tbody>\n",
       "    <tr>\n",
       "      <th>Exports</th>\n",
       "      <td>16527368000</td>\n",
       "    </tr>\n",
       "  </tbody>\n",
       "</table>\n",
       "</div>"
      ],
      "text/plain": [
       "                 Value\n",
       "Direction             \n",
       "Exports    16527368000"
      ]
     },
     "execution_count": 80,
     "metadata": {},
     "output_type": "execute_result"
    }
   ],
   "source": [
    "United_State_Values"
   ]
  },
  {
   "cell_type": "markdown",
   "id": "c4a040ee-07b8-4c26-bfb4-08bdaa3ce152",
   "metadata": {},
   "source": [
    "##Visulaize total Ammount of Export Value($)"
   ]
  },
  {
   "cell_type": "code",
   "execution_count": 81,
   "id": "e43d96a2-8d98-4375-a374-90c8fdf366e0",
   "metadata": {},
   "outputs": [
    {
     "data": {
      "image/png": "[encoded data removed]",
      "text/plain": [
       "<Figure size 640x480 with 1 Axes>"
      ]
     },
     "metadata": {},
     "output_type": "display_data"
    }
   ],
   "source": [
    "Visulaize = pd.DataFrame({'Country':[\"China\",\"United_State\",\"Europe\"],\"Export\":[62280625000,16527368000,7854000000]})\n",
    "ax = sns.barplot(x='Country',y=\"Export\",data=Visulaize)\n",
    "for bar in ax.containers:\n",
    "    ax.bar_label(bar)"
   ]
  },
  {
   "cell_type": "code",
   "execution_count": null,
   "id": "9bf5980c-074b-48ac-8d15-ae848ca5ceb5",
   "metadata": {},
   "outputs": [],
   "source": []
  }
 ],
 "metadata": {
  "kernelspec": {
   "display_name": "Python 3 (ipykernel)",
   "language": "python",
   "name": "python3"
  },
  "language_info": {
   "codemirror_mode": {
    "name": "ipython",
    "version": 3
   },
   "file_extension": ".py",
   "mimetype": "text/x-python",
   "name": "python",
   "nbconvert_exporter": "python",
   "pygments_lexer": "ipython3",
   "version": "3.10.12"
  },
  "widgets": {
   "application/vnd.jupyter.widget-state+json": {
    "state": {},
    "version_major": 2,
    "version_minor": 0
   }
  }
 },
 "nbformat": 4,
 "nbformat_minor": 5
}
